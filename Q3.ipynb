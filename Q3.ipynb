{
 "cells": [
  {
   "cell_type": "code",
   "execution_count": 1,
   "metadata": {
    "ExecuteTime": {
     "end_time": "2021-04-14T16:39:10.154887Z",
     "start_time": "2021-04-14T16:39:05.184717Z"
    }
   },
   "outputs": [],
   "source": [
    "import numpy as np\n",
    "import pandas as pd\n",
    "\n",
    "from sklearn.model_selection import train_test_split\n",
    "from sklearn.pipeline import Pipeline\n",
    "from sklearn.compose import ColumnTransformer\n",
    "\n",
    "from jcopml.pipeline import num_pipe, cat_pipe\n",
    "from jcopml.utils import save_model, load_model\n",
    "from jcopml.plot import plot_missing_value\n",
    "from jcopml.feature_importance import mean_score_decrease"
   ]
  },
  {
   "cell_type": "code",
   "execution_count": 2,
   "metadata": {
    "ExecuteTime": {
     "end_time": "2021-04-14T16:39:53.201394Z",
     "start_time": "2021-04-14T16:39:41.761755Z"
    },
    "scrolled": true
   },
   "outputs": [
    {
     "name": "stderr",
     "output_type": "stream",
     "text": [
      "[nltk_data] Downloading package stopwords to\n",
      "[nltk_data]     C:\\Users\\PAVILION\\AppData\\Roaming\\nltk_data...\n",
      "[nltk_data]   Unzipping corpora\\stopwords.zip.\n",
      "[nltk_data] Downloading package punkt to\n",
      "[nltk_data]     C:\\Users\\PAVILION\\AppData\\Roaming\\nltk_data...\n",
      "[nltk_data]   Unzipping tokenizers\\punkt.zip.\n"
     ]
    },
    {
     "data": {
      "text/plain": [
       "True"
      ]
     },
     "execution_count": 2,
     "metadata": {},
     "output_type": "execute_result"
    }
   ],
   "source": [
    "import nltk\n",
    "nltk.download (\"stopwords\")\n",
    "nltk.download (\"punkt\")"
   ]
  },
  {
   "cell_type": "code",
   "execution_count": 3,
   "metadata": {
    "ExecuteTime": {
     "end_time": "2021-04-14T16:39:57.934253Z",
     "start_time": "2021-04-14T16:39:57.911332Z"
    }
   },
   "outputs": [],
   "source": [
    "from nltk.tokenize import word_tokenize\n",
    "from nltk.corpus import stopwords\n",
    "from string import punctuation\n",
    "\n",
    "sw = stopwords.words(\"english\") + list(punctuation)"
   ]
  },
  {
   "cell_type": "code",
   "execution_count": 4,
   "metadata": {
    "ExecuteTime": {
     "end_time": "2021-04-14T16:46:41.567878Z",
     "start_time": "2021-04-14T16:46:41.560230Z"
    }
   },
   "outputs": [],
   "source": [
    "import os"
   ]
  },
  {
   "cell_type": "code",
   "execution_count": 14,
   "metadata": {
    "ExecuteTime": {
     "end_time": "2021-04-14T17:37:34.838001Z",
     "start_time": "2021-04-14T17:37:34.784072Z"
    },
    "scrolled": true
   },
   "outputs": [],
   "source": [
    "dirs = \"Q3\"\n",
    "datas = []\n",
    "for filename in os.listdir(dirs):\n",
    "    if filename.endswith('.txt'):\n",
    "        name = os.path.join(dirs, filename)\n",
    "        with open(\"Q3/arxiv_annotate10_7_1.txt\", 'r') as file:\n",
    "            data = file.read()\n",
    "        lines = data.splitlines()\n",
    "        for line in lines:\n",
    "            data = {}\n",
    "            if '###' in line:\n",
    "                continue\n",
    "            splitted = line.split('\\t')\n",
    "            data['Teks'] = splitted[1]\n",
    "            data['label'] = splitted[0]\n",
    "            datas.append(data)"
   ]
  },
  {
   "cell_type": "code",
   "execution_count": 15,
   "metadata": {
    "ExecuteTime": {
     "end_time": "2021-04-14T17:38:14.882137Z",
     "start_time": "2021-04-14T17:38:14.738683Z"
    }
   },
   "outputs": [
    {
     "data": {
      "text/html": [
       "<div>\n",
       "<style scoped>\n",
       "    .dataframe tbody tr th:only-of-type {\n",
       "        vertical-align: middle;\n",
       "    }\n",
       "\n",
       "    .dataframe tbody tr th {\n",
       "        vertical-align: top;\n",
       "    }\n",
       "\n",
       "    .dataframe thead th {\n",
       "        text-align: right;\n",
       "    }\n",
       "</style>\n",
       "<table border=\"1\" class=\"dataframe\">\n",
       "  <thead>\n",
       "    <tr style=\"text-align: right;\">\n",
       "      <th></th>\n",
       "      <th>Teks</th>\n",
       "      <th>label</th>\n",
       "    </tr>\n",
       "  </thead>\n",
       "  <tbody>\n",
       "    <tr>\n",
       "      <th>0</th>\n",
       "      <td>The Minimum Description Length principle for o...</td>\n",
       "      <td>MISC</td>\n",
       "    </tr>\n",
       "    <tr>\n",
       "      <th>1</th>\n",
       "      <td>If the underlying model class is discrete, the...</td>\n",
       "      <td>MISC</td>\n",
       "    </tr>\n",
       "    <tr>\n",
       "      <th>2</th>\n",
       "      <td>For MDL, in general one can only have loss bou...</td>\n",
       "      <td>MISC</td>\n",
       "    </tr>\n",
       "    <tr>\n",
       "      <th>3</th>\n",
       "      <td>We show that this is even the case if the mode...</td>\n",
       "      <td>AIMX</td>\n",
       "    </tr>\n",
       "    <tr>\n",
       "      <th>4</th>\n",
       "      <td>We derive a new upper bound on the prediction ...</td>\n",
       "      <td>OWNX</td>\n",
       "    </tr>\n",
       "  </tbody>\n",
       "</table>\n",
       "</div>"
      ],
      "text/plain": [
       "                                                Teks label\n",
       "0  The Minimum Description Length principle for o...  MISC\n",
       "1  If the underlying model class is discrete, the...  MISC\n",
       "2  For MDL, in general one can only have loss bou...  MISC\n",
       "3  We show that this is even the case if the mode...  AIMX\n",
       "4  We derive a new upper bound on the prediction ...  OWNX"
      ]
     },
     "execution_count": 15,
     "metadata": {},
     "output_type": "execute_result"
    }
   ],
   "source": [
    "df = pd.DataFrame(datas)\n",
    "df.head()"
   ]
  },
  {
   "cell_type": "code",
   "execution_count": 31,
   "metadata": {
    "ExecuteTime": {
     "end_time": "2021-04-14T17:50:02.832150Z",
     "start_time": "2021-04-14T17:50:02.747900Z"
    }
   },
   "outputs": [
    {
     "data": {
      "text/plain": [
       "MISC    4500\n",
       "OWNX    1260\n",
       "AIMX     180\n",
       "CONT      90\n",
       "Name: label, dtype: int64"
      ]
     },
     "execution_count": 31,
     "metadata": {},
     "output_type": "execute_result"
    }
   ],
   "source": [
    "df.label.value_counts()"
   ]
  },
  {
   "cell_type": "markdown",
   "metadata": {},
   "source": [
    "# Dataset Splitting"
   ]
  },
  {
   "cell_type": "code",
   "execution_count": 16,
   "metadata": {
    "ExecuteTime": {
     "end_time": "2021-04-14T17:38:44.967190Z",
     "start_time": "2021-04-14T17:38:44.868579Z"
    }
   },
   "outputs": [
    {
     "data": {
      "text/plain": [
       "((4824,), (1206,), (4824,), (1206,))"
      ]
     },
     "execution_count": 16,
     "metadata": {},
     "output_type": "execute_result"
    }
   ],
   "source": [
    "X = df.Teks\n",
    "y = df.label\n",
    "\n",
    "X_train, X_test, y_train, y_test = train_test_split(X, y, test_size=0.2, stratify=y, random_state=42)\n",
    "X_train.shape, X_test.shape, y_train.shape, y_test.shape"
   ]
  },
  {
   "cell_type": "markdown",
   "metadata": {},
   "source": [
    "# Training"
   ]
  },
  {
   "cell_type": "code",
   "execution_count": 17,
   "metadata": {
    "ExecuteTime": {
     "end_time": "2021-04-14T17:38:57.998339Z",
     "start_time": "2021-04-14T17:38:57.668522Z"
    }
   },
   "outputs": [],
   "source": [
    "from sklearn.feature_extraction.text import TfidfVectorizer\n",
    "\n",
    "from sklearn.linear_model import LogisticRegression\n",
    "from sklearn.model_selection import RandomizedSearchCV\n",
    "from jcopml.tuning import random_search_params as rsp"
   ]
  },
  {
   "cell_type": "code",
   "execution_count": 19,
   "metadata": {
    "ExecuteTime": {
     "end_time": "2021-04-14T17:40:50.956857Z",
     "start_time": "2021-04-14T17:39:28.812715Z"
    }
   },
   "outputs": [
    {
     "name": "stdout",
     "output_type": "stream",
     "text": [
      "Fitting 3 folds for each of 50 candidates, totalling 150 fits\n"
     ]
    },
    {
     "name": "stderr",
     "output_type": "stream",
     "text": [
      "[Parallel(n_jobs=-1)]: Using backend LokyBackend with 8 concurrent workers.\n",
      "[Parallel(n_jobs=-1)]: Done  34 tasks      | elapsed:   23.6s\n",
      "[Parallel(n_jobs=-1)]: Done 150 out of 150 | elapsed:  1.3min finished\n",
      "C:\\Users\\PAVILION\\miniconda3\\envs\\jcopml\\lib\\site-packages\\sklearn\\feature_extraction\\text.py:385: UserWarning: Your stop_words may be inconsistent with your preprocessing. Tokenizing the stop words generated tokens [\"'d\", \"'ll\", \"'re\", \"'s\", \"'ve\", '``', 'could', 'might', 'must', \"n't\", 'need', 'sha', 'wo', 'would'] not in stop_words.\n",
      "  'stop_words.' % sorted(inconsistent))\n"
     ]
    },
    {
     "name": "stdout",
     "output_type": "stream",
     "text": [
      "{'algo__C': 0.17670169402947963, 'algo__fit_intercept': True}\n",
      "1.0 1.0 1.0\n"
     ]
    }
   ],
   "source": [
    "pipeline = Pipeline([\n",
    "    ('prep', TfidfVectorizer(tokenizer=word_tokenize, stop_words=sw)),\n",
    "    ('algo', LogisticRegression(solver='lbfgs', n_jobs=-1, random_state=42))\n",
    "])\n",
    "\n",
    "\n",
    "model = RandomizedSearchCV(pipeline, rsp.logreg_params, cv=3, n_iter=50, n_jobs=-1, verbose=1, random_state=42)\n",
    "model.fit(X_train, y_train)\n",
    "\n",
    "print(model.best_params_)\n",
    "print(model.score(X_train, y_train), model.best_score_, model.score(X_test, y_test))"
   ]
  },
  {
   "cell_type": "code",
   "execution_count": 59,
   "metadata": {
    "ExecuteTime": {
     "end_time": "2021-04-14T19:46:16.626100Z",
     "start_time": "2021-04-14T19:46:16.596076Z"
    }
   },
   "outputs": [],
   "source": [
    "# DOI: 10.1109/MLBDBI51377.2020.00037\n",
    "Text = \"Diabetes is a common disease and its early symptoms are not very noticeable, so an efficient method of prediction will help patients make a self-diagnosis. However, the conventional method to identify diabetes is to make a blood glucose test by doctors and the medical resource is limited. Therefore, most patients cannot get the diagnosis immediately. Since the early symptoms of diabetes are not obvious and the relationship between symptoms and diabetes is complex, the self-diagnosis results based on patients' own experience are not accurate. The process of Machine Learning is to train a computational algorithm for prediction based on a big dataset. It is popular for its efficiency and accuracy. Also, it has the advantage of dealing with tons of data, so we can make diagnoses for plenty of patients in a short time and the result will be more accurate. In this study, we used six classical machine learning models, including logistic regression, support vector machine, decision tree, random forest, boosting and neural network, to make a prediction model for diabetes diagnosis. Our data was from UCI Machine Learning Repository, which was collected by direct questionnaires from the patients of the Sylhet Diabetes Hospital in Sylhet, Bangladesh and approved by a doctor. We conduct parameter tuning on each model to tradeoff between the accuracy and complexity. The testing error shows that random forest, boosting and neural network had better performances than logistic regression, support vector machine and decision tree. The accuracy of neural network of the test dataset achieves 96 percent, which is the best model among these models for predicting diabetes.\"\n",
    "# DOI: 10.1109/CVIDL51233.2020.00-85\n",
    "# Text = \"With the rapid development of Chinnes highway transportation industry, the problem of road traffic safety has become increasingly prominent. Highway passenger transport accidents are generally fatal and fatal accidents. Traffic accidents not only cause enormous economic losses to transport enterprises, but also have a very bad social impact on local highway transport management departments, which has even become a new social instability factor. This is mainly because there are many problems in autopilot technology, such as low recognition accuracy, poor real-time performance, weak anti-interference ability and so on. However, embedded technology and machine learning can solve these problems well, so autopilot technology will become the mainstream in the future. Firstly, this paper analyses the importance of autopilot technology. Then this paper analyses the machine learning target recognition, vehicle automatic driving system model and vehicle automatic driving system flow. Finally, this paper designs the function of autopilot system.\"\n",
    "lines = Text.split('.')"
   ]
  },
  {
   "cell_type": "code",
   "execution_count": 60,
   "metadata": {
    "ExecuteTime": {
     "end_time": "2021-04-14T19:46:17.110876Z",
     "start_time": "2021-04-14T19:46:17.019069Z"
    },
    "scrolled": false
   },
   "outputs": [
    {
     "name": "stdout",
     "output_type": "stream",
     "text": [
      "Diabetes is a common disease and its early symptoms are not very noticeable, so an efficient method of prediction will help patients make a self-diagnosis\n",
      "['MISC'] [[0.0118335  0.00697561 0.84922628 0.13196462]]\n",
      "=======================================================\n",
      " However, the conventional method to identify diabetes is to make a blood glucose test by doctors and the medical resource is limited\n",
      "['MISC'] [[0.02601377 0.06274036 0.72240344 0.18884242]]\n",
      "=======================================================\n",
      " Therefore, most patients cannot get the diagnosis immediately\n",
      "['MISC'] [[0.01093048 0.00628503 0.90165988 0.08112461]]\n",
      "=======================================================\n",
      " Since the early symptoms of diabetes are not obvious and the relationship between symptoms and diabetes is complex, the self-diagnosis results based on patients' own experience are not accurate\n",
      "['OWNX'] [[0.01700236 0.01009333 0.47503416 0.49787015]]\n",
      "=======================================================\n",
      " The process of Machine Learning is to train a computational algorithm for prediction based on a big dataset\n",
      "['MISC'] [[0.00926688 0.0057448  0.87697516 0.10801316]]\n",
      "=======================================================\n",
      " It is popular for its efficiency and accuracy\n",
      "['MISC'] [[0.01416385 0.00804018 0.85358534 0.12421063]]\n",
      "=======================================================\n",
      " Also, it has the advantage of dealing with tons of data, so we can make diagnoses for plenty of patients in a short time and the result will be more accurate\n",
      "['MISC'] [[0.00899735 0.00542153 0.92194797 0.06363315]]\n",
      "=======================================================\n",
      " In this study, we used six classical machine learning models, including logistic regression, support vector machine, decision tree, random forest, boosting and neural network, to make a prediction model for diabetes diagnosis\n",
      "['MISC'] [[0.01027761 0.00552109 0.87107079 0.11313051]]\n",
      "=======================================================\n",
      " Our data was from UCI Machine Learning Repository, which was collected by direct questionnaires from the patients of the Sylhet Diabetes Hospital in Sylhet, Bangladesh and approved by a doctor\n",
      "['MISC'] [[0.00867679 0.00534668 0.89807134 0.08790519]]\n",
      "=======================================================\n",
      " We conduct parameter tuning on each model to tradeoff between the accuracy and complexity\n",
      "['MISC'] [[0.01431667 0.00653687 0.87756891 0.10157755]]\n",
      "=======================================================\n",
      " The testing error shows that random forest, boosting and neural network had better performances than logistic regression, support vector machine and decision tree\n",
      "['OWNX'] [[0.01558243 0.00950486 0.3726978  0.60221491]]\n",
      "=======================================================\n",
      " The accuracy of neural network of the test dataset achieves 96 percent, which is the best model among these models for predicting diabetes\n",
      "['MISC'] [[0.01597492 0.00670608 0.86273907 0.11457993]]\n",
      "=======================================================\n",
      "\n",
      "['MISC'] [[0.01416385 0.00804018 0.85358534 0.12421063]]\n",
      "=======================================================\n"
     ]
    }
   ],
   "source": [
    "for line in lines:\n",
    "    print(line)\n",
    "    print(model.predict([line]), model.predict_proba([line]))\n",
    "    print('=======================================================')"
   ]
  },
  {
   "cell_type": "code",
   "execution_count": null,
   "metadata": {},
   "outputs": [],
   "source": []
  }
 ],
 "metadata": {
  "kernelspec": {
   "display_name": "Python [conda env:jcopml]",
   "language": "python",
   "name": "conda-env-jcopml-py"
  },
  "language_info": {
   "codemirror_mode": {
    "name": "ipython",
    "version": 3
   },
   "file_extension": ".py",
   "mimetype": "text/x-python",
   "name": "python",
   "nbconvert_exporter": "python",
   "pygments_lexer": "ipython3",
   "version": "3.7.6"
  }
 },
 "nbformat": 4,
 "nbformat_minor": 4
}
