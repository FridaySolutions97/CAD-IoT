{
 "cells": [
  {
   "cell_type": "code",
   "execution_count": 1,
   "metadata": {
    "ExecuteTime": {
     "end_time": "2021-04-15T11:36:26.149707Z",
     "start_time": "2021-04-15T11:36:21.722232Z"
    }
   },
   "outputs": [],
   "source": [
    "import numpy as np\n",
    "import pandas as pd\n",
    "\n",
    "from sklearn.model_selection import train_test_split\n",
    "from sklearn.pipeline import Pipeline\n",
    "from sklearn.compose import ColumnTransformer\n",
    "\n",
    "from jcopml.pipeline import num_pipe, cat_pipe\n",
    "from jcopml.utils import save_model, load_model\n",
    "from jcopml.plot import plot_missing_value\n",
    "from jcopml.feature_importance import mean_score_decrease"
   ]
  },
  {
   "cell_type": "code",
   "execution_count": 2,
   "metadata": {
    "ExecuteTime": {
     "end_time": "2021-04-15T11:36:26.815044Z",
     "start_time": "2021-04-15T11:36:26.152702Z"
    },
    "scrolled": true
   },
   "outputs": [],
   "source": [
    "import nltk\n",
    "# nltk.download (\"stopwords\")\n",
    "# nltk.download (\"punkt\")"
   ]
  },
  {
   "cell_type": "code",
   "execution_count": 3,
   "metadata": {
    "ExecuteTime": {
     "end_time": "2021-04-15T11:36:26.854385Z",
     "start_time": "2021-04-15T11:36:26.828556Z"
    }
   },
   "outputs": [],
   "source": [
    "from nltk.tokenize import word_tokenize\n",
    "from nltk.corpus import stopwords\n",
    "from string import punctuation\n",
    "\n",
    "sw = stopwords.words(\"english\") + list(punctuation) # unimportant features\n",
    "# sw"
   ]
  },
  {
   "cell_type": "code",
   "execution_count": 4,
   "metadata": {
    "ExecuteTime": {
     "end_time": "2021-04-15T11:36:26.910776Z",
     "start_time": "2021-04-15T11:36:26.858608Z"
    }
   },
   "outputs": [],
   "source": [
    "import os"
   ]
  },
  {
   "cell_type": "markdown",
   "metadata": {},
   "source": [
    "# Extract features and targets on text then combine into a dataframe"
   ]
  },
  {
   "cell_type": "code",
   "execution_count": 5,
   "metadata": {
    "ExecuteTime": {
     "end_time": "2021-04-15T11:36:27.060074Z",
     "start_time": "2021-04-15T11:36:26.915585Z"
    },
    "scrolled": true
   },
   "outputs": [],
   "source": [
    "dirs = \"Q3\"\n",
    "datas = []\n",
    "for filename in os.listdir(dirs):\n",
    "    if filename.endswith('.txt'):\n",
    "        name = os.path.join(dirs, filename)\n",
    "        with open(\"Q3/arxiv_annotate10_7_1.txt\", 'r') as file:\n",
    "            data = file.read()\n",
    "        lines = data.splitlines()\n",
    "        for line in lines:\n",
    "            data = {}\n",
    "            if '###' in line:\n",
    "                continue\n",
    "            # splitting label and the feature\n",
    "            splitted = line.split('\\t')\n",
    "            data['Teks'] = splitted[1]\n",
    "            data['label'] = splitted[0]\n",
    "            datas.append(data)"
   ]
  },
  {
   "cell_type": "code",
   "execution_count": 6,
   "metadata": {
    "ExecuteTime": {
     "end_time": "2021-04-15T11:36:27.110578Z",
     "start_time": "2021-04-15T11:36:27.065846Z"
    }
   },
   "outputs": [
    {
     "data": {
      "text/html": [
       "<div>\n",
       "<style scoped>\n",
       "    .dataframe tbody tr th:only-of-type {\n",
       "        vertical-align: middle;\n",
       "    }\n",
       "\n",
       "    .dataframe tbody tr th {\n",
       "        vertical-align: top;\n",
       "    }\n",
       "\n",
       "    .dataframe thead th {\n",
       "        text-align: right;\n",
       "    }\n",
       "</style>\n",
       "<table border=\"1\" class=\"dataframe\">\n",
       "  <thead>\n",
       "    <tr style=\"text-align: right;\">\n",
       "      <th></th>\n",
       "      <th>Teks</th>\n",
       "      <th>label</th>\n",
       "    </tr>\n",
       "  </thead>\n",
       "  <tbody>\n",
       "    <tr>\n",
       "      <th>0</th>\n",
       "      <td>The Minimum Description Length principle for o...</td>\n",
       "      <td>MISC</td>\n",
       "    </tr>\n",
       "    <tr>\n",
       "      <th>1</th>\n",
       "      <td>If the underlying model class is discrete, the...</td>\n",
       "      <td>MISC</td>\n",
       "    </tr>\n",
       "    <tr>\n",
       "      <th>2</th>\n",
       "      <td>For MDL, in general one can only have loss bou...</td>\n",
       "      <td>MISC</td>\n",
       "    </tr>\n",
       "    <tr>\n",
       "      <th>3</th>\n",
       "      <td>We show that this is even the case if the mode...</td>\n",
       "      <td>AIMX</td>\n",
       "    </tr>\n",
       "    <tr>\n",
       "      <th>4</th>\n",
       "      <td>We derive a new upper bound on the prediction ...</td>\n",
       "      <td>OWNX</td>\n",
       "    </tr>\n",
       "  </tbody>\n",
       "</table>\n",
       "</div>"
      ],
      "text/plain": [
       "                                                Teks label\n",
       "0  The Minimum Description Length principle for o...  MISC\n",
       "1  If the underlying model class is discrete, the...  MISC\n",
       "2  For MDL, in general one can only have loss bou...  MISC\n",
       "3  We show that this is even the case if the mode...  AIMX\n",
       "4  We derive a new upper bound on the prediction ...  OWNX"
      ]
     },
     "execution_count": 6,
     "metadata": {},
     "output_type": "execute_result"
    }
   ],
   "source": [
    "df = pd.DataFrame(datas)\n",
    "df.head()"
   ]
  },
  {
   "cell_type": "code",
   "execution_count": 7,
   "metadata": {
    "ExecuteTime": {
     "end_time": "2021-04-15T11:36:27.170485Z",
     "start_time": "2021-04-15T11:36:27.118565Z"
    }
   },
   "outputs": [
    {
     "data": {
      "text/plain": [
       "MISC    4500\n",
       "OWNX    1260\n",
       "AIMX     180\n",
       "CONT      90\n",
       "Name: label, dtype: int64"
      ]
     },
     "execution_count": 7,
     "metadata": {},
     "output_type": "execute_result"
    }
   ],
   "source": [
    "df.label.value_counts() # check the number of target categories"
   ]
  },
  {
   "cell_type": "markdown",
   "metadata": {},
   "source": [
    "# Dataset Splitting"
   ]
  },
  {
   "cell_type": "code",
   "execution_count": 8,
   "metadata": {
    "ExecuteTime": {
     "end_time": "2021-04-15T11:36:27.225078Z",
     "start_time": "2021-04-15T11:36:27.176066Z"
    }
   },
   "outputs": [
    {
     "data": {
      "text/plain": [
       "((4824,), (1206,), (4824,), (1206,))"
      ]
     },
     "execution_count": 8,
     "metadata": {},
     "output_type": "execute_result"
    }
   ],
   "source": [
    "X = df.Teks # feature\n",
    "y = df.label # target\n",
    "\n",
    "X_train, X_test, y_train, y_test = train_test_split(X, y, test_size=0.2, stratify=y, random_state=42)\n",
    "X_train.shape, X_test.shape, y_train.shape, y_test.shape"
   ]
  },
  {
   "cell_type": "markdown",
   "metadata": {},
   "source": [
    "# Training"
   ]
  },
  {
   "cell_type": "code",
   "execution_count": 9,
   "metadata": {
    "ExecuteTime": {
     "end_time": "2021-04-15T11:36:27.407000Z",
     "start_time": "2021-04-15T11:36:27.229846Z"
    }
   },
   "outputs": [],
   "source": [
    "from sklearn.feature_extraction.text import TfidfVectorizer\n",
    "\n",
    "from sklearn.linear_model import LogisticRegression\n",
    "from sklearn.model_selection import RandomizedSearchCV\n",
    "from jcopml.tuning import random_search_params as rsp"
   ]
  },
  {
   "cell_type": "code",
   "execution_count": 10,
   "metadata": {
    "ExecuteTime": {
     "end_time": "2021-04-15T11:37:46.926435Z",
     "start_time": "2021-04-15T11:36:27.410507Z"
    }
   },
   "outputs": [
    {
     "name": "stdout",
     "output_type": "stream",
     "text": [
      "Fitting 3 folds for each of 50 candidates, totalling 150 fits\n"
     ]
    },
    {
     "name": "stderr",
     "output_type": "stream",
     "text": [
      "[Parallel(n_jobs=-1)]: Using backend LokyBackend with 8 concurrent workers.\n",
      "[Parallel(n_jobs=-1)]: Done  34 tasks      | elapsed:   23.0s\n",
      "[Parallel(n_jobs=-1)]: Done 150 out of 150 | elapsed:  1.2min finished\n",
      "C:\\Users\\PAVILION\\miniconda3\\envs\\jcopml\\lib\\site-packages\\sklearn\\feature_extraction\\text.py:385: UserWarning: Your stop_words may be inconsistent with your preprocessing. Tokenizing the stop words generated tokens [\"'d\", \"'ll\", \"'re\", \"'s\", \"'ve\", '``', 'could', 'might', 'must', \"n't\", 'need', 'sha', 'wo', 'would'] not in stop_words.\n",
      "  'stop_words.' % sorted(inconsistent))\n"
     ]
    },
    {
     "name": "stdout",
     "output_type": "stream",
     "text": [
      "{'algo__C': 0.17670169402947963, 'algo__fit_intercept': True}\n",
      "1.0 1.0 1.0\n"
     ]
    }
   ],
   "source": [
    "pipeline = Pipeline([\n",
    "    ('prep', TfidfVectorizer(tokenizer=word_tokenize, stop_words=sw)), # encode unlabeled sentence to a matrix\n",
    "    # use word_tokenize to tokenize sentence using nltk\n",
    "    ('algo', LogisticRegression(solver='lbfgs', n_jobs=-1, random_state=42))\n",
    "])\n",
    "\n",
    "\n",
    "model = RandomizedSearchCV(pipeline, rsp.logreg_params, cv=3, n_iter=50, n_jobs=-1, verbose=1, random_state=42)\n",
    "model.fit(X_train, y_train)\n",
    "\n",
    "print(model.best_params_)\n",
    "print(model.score(X_train, y_train), model.best_score_, model.score(X_test, y_test))"
   ]
  },
  {
   "cell_type": "markdown",
   "metadata": {},
   "source": [
    "# Save model"
   ]
  },
  {
   "cell_type": "code",
   "execution_count": 11,
   "metadata": {
    "ExecuteTime": {
     "end_time": "2021-04-15T11:37:46.950966Z",
     "start_time": "2021-04-15T11:37:46.932565Z"
    }
   },
   "outputs": [],
   "source": [
    "from jcopml.utils import save_model, load_model"
   ]
  },
  {
   "cell_type": "code",
   "execution_count": 12,
   "metadata": {
    "ExecuteTime": {
     "end_time": "2021-04-15T11:37:46.995366Z",
     "start_time": "2021-04-15T11:37:46.960798Z"
    }
   },
   "outputs": [
    {
     "name": "stdout",
     "output_type": "stream",
     "text": [
      "Model is pickled as model/paper_sentences_classifier.pkl\n"
     ]
    }
   ],
   "source": [
    "save_model(model, \"paper_sentences_classifier.pkl\")"
   ]
  },
  {
   "cell_type": "markdown",
   "metadata": {},
   "source": [
    "# Sanity check (test and predict with the model)"
   ]
  },
  {
   "cell_type": "code",
   "execution_count": 13,
   "metadata": {
    "ExecuteTime": {
     "end_time": "2021-04-15T11:37:47.044780Z",
     "start_time": "2021-04-15T11:37:47.001432Z"
    }
   },
   "outputs": [],
   "source": [
    "model = load_model(\"model/paper_sentences_classifier.pkl\")"
   ]
  },
  {
   "cell_type": "code",
   "execution_count": 14,
   "metadata": {
    "ExecuteTime": {
     "end_time": "2021-04-15T11:37:47.059942Z",
     "start_time": "2021-04-15T11:37:47.051460Z"
    }
   },
   "outputs": [],
   "source": [
    "# DOI: 10.1109/MLBDBI51377.2020.00037\n",
    "Text = \"Diabetes is a common disease and its early symptoms are not very noticeable, so an efficient method of prediction will help patients make a self-diagnosis. However, the conventional method to identify diabetes is to make a blood glucose test by doctors and the medical resource is limited. Therefore, most patients cannot get the diagnosis immediately. Since the early symptoms of diabetes are not obvious and the relationship between symptoms and diabetes is complex, the self-diagnosis results based on patients' own experience are not accurate. The process of Machine Learning is to train a computational algorithm for prediction based on a big dataset. It is popular for its efficiency and accuracy. Also, it has the advantage of dealing with tons of data, so we can make diagnoses for plenty of patients in a short time and the result will be more accurate. In this study, we used six classical machine learning models, including logistic regression, support vector machine, decision tree, random forest, boosting and neural network, to make a prediction model for diabetes diagnosis. Our data was from UCI Machine Learning Repository, which was collected by direct questionnaires from the patients of the Sylhet Diabetes Hospital in Sylhet, Bangladesh and approved by a doctor. We conduct parameter tuning on each model to tradeoff between the accuracy and complexity. The testing error shows that random forest, boosting and neural network had better performances than logistic regression, support vector machine and decision tree. The accuracy of neural network of the test dataset achieves 96 percent, which is the best model among these models for predicting diabetes.\"\n",
    "# DOI: 10.1109/CVIDL51233.2020.00-85\n",
    "Text2 = \"With the rapid development of Chinnes highway transportation industry, the problem of road traffic safety has become increasingly prominent. Highway passenger transport accidents are generally fatal and fatal accidents. Traffic accidents not only cause enormous economic losses to transport enterprises, but also have a very bad social impact on local highway transport management departments, which has even become a new social instability factor. This is mainly because there are many problems in autopilot technology, such as low recognition accuracy, poor real-time performance, weak anti-interference ability and so on. However, embedded technology and machine learning can solve these problems well, so autopilot technology will become the mainstream in the future. Firstly, this paper analyses the importance of autopilot technology. Then this paper analyses the machine learning target recognition, vehicle automatic driving system model and vehicle automatic driving system flow. Finally, this paper designs the function of autopilot system.\""
   ]
  },
  {
   "cell_type": "code",
   "execution_count": 15,
   "metadata": {
    "ExecuteTime": {
     "end_time": "2021-04-15T11:37:47.179695Z",
     "start_time": "2021-04-15T11:37:47.065828Z"
    }
   },
   "outputs": [
    {
     "data": {
      "text/plain": [
       "array(['MISC', 'MISC', 'MISC', 'OWNX', 'MISC', 'MISC', 'MISC', 'MISC',\n",
       "       'MISC', 'MISC', 'OWNX', 'MISC', 'MISC'], dtype=object)"
      ]
     },
     "execution_count": 15,
     "metadata": {},
     "output_type": "execute_result"
    }
   ],
   "source": [
    "lines = Text.split('.')\n",
    "model.predict(lines)"
   ]
  },
  {
   "cell_type": "code",
   "execution_count": 16,
   "metadata": {
    "ExecuteTime": {
     "end_time": "2021-04-15T11:37:47.344485Z",
     "start_time": "2021-04-15T11:37:47.181363Z"
    },
    "scrolled": true
   },
   "outputs": [
    {
     "name": "stdout",
     "output_type": "stream",
     "text": [
      "[MISC, 0.8492262763052735]  Diabetes is a common disease and its early symptoms are not very noticeable, so an efficient method of prediction will help patients make a self-diagnosis\n",
      "-----------------------------------------------------------------------------------------------------\n",
      "[MISC, 0.7224034373201657]   However, the conventional method to identify diabetes is to make a blood glucose test by doctors and the medical resource is limited\n",
      "-----------------------------------------------------------------------------------------------------\n",
      "[MISC, 0.901659883027018]   Therefore, most patients cannot get the diagnosis immediately\n",
      "-----------------------------------------------------------------------------------------------------\n",
      "[OWNX, 0.4978701527672024]   Since the early symptoms of diabetes are not obvious and the relationship between symptoms and diabetes is complex, the self-diagnosis results based on patients' own experience are not accurate\n",
      "-----------------------------------------------------------------------------------------------------\n",
      "[MISC, 0.8769751564088577]   The process of Machine Learning is to train a computational algorithm for prediction based on a big dataset\n",
      "-----------------------------------------------------------------------------------------------------\n",
      "[MISC, 0.8535853390992194]   It is popular for its efficiency and accuracy\n",
      "-----------------------------------------------------------------------------------------------------\n",
      "[MISC, 0.921947968495947]   Also, it has the advantage of dealing with tons of data, so we can make diagnoses for plenty of patients in a short time and the result will be more accurate\n",
      "-----------------------------------------------------------------------------------------------------\n",
      "[MISC, 0.8710707894724585]   In this study, we used six classical machine learning models, including logistic regression, support vector machine, decision tree, random forest, boosting and neural network, to make a prediction model for diabetes diagnosis\n",
      "-----------------------------------------------------------------------------------------------------\n",
      "[MISC, 0.8980713401784367]   Our data was from UCI Machine Learning Repository, which was collected by direct questionnaires from the patients of the Sylhet Diabetes Hospital in Sylhet, Bangladesh and approved by a doctor\n",
      "-----------------------------------------------------------------------------------------------------\n",
      "[MISC, 0.8775689075228966]   We conduct parameter tuning on each model to tradeoff between the accuracy and complexity\n",
      "-----------------------------------------------------------------------------------------------------\n",
      "[OWNX, 0.6022149106910886]   The testing error shows that random forest, boosting and neural network had better performances than logistic regression, support vector machine and decision tree\n",
      "-----------------------------------------------------------------------------------------------------\n",
      "[MISC, 0.8627390738873834]   The accuracy of neural network of the test dataset achieves 96 percent, which is the best model among these models for predicting diabetes\n",
      "-----------------------------------------------------------------------------------------------------\n"
     ]
    }
   ],
   "source": [
    "lines = Text.split('.')\n",
    "for line in lines[:-1]:\n",
    "    print(f'[{model.predict([line])[0]}, {max(model.predict_proba([line])[0])}]  {line}')\n",
    "    print('-----------------------------------------------------------------------------------------------------')"
   ]
  },
  {
   "cell_type": "code",
   "execution_count": 17,
   "metadata": {
    "ExecuteTime": {
     "end_time": "2021-04-15T11:37:47.431327Z",
     "start_time": "2021-04-15T11:37:47.350161Z"
    },
    "scrolled": true
   },
   "outputs": [
    {
     "name": "stdout",
     "output_type": "stream",
     "text": [
      "[MISC, 0.8535853390992194]  With the rapid development of Chinnes highway transportation industry, the problem of road traffic safety has become increasingly prominent\n",
      "-----------------------------------------------------------------------------------------------------\n",
      "[MISC, 0.8535853390992194]   Highway passenger transport accidents are generally fatal and fatal accidents\n",
      "-----------------------------------------------------------------------------------------------------\n",
      "[MISC, 0.8071723985039047]   Traffic accidents not only cause enormous economic losses to transport enterprises, but also have a very bad social impact on local highway transport management departments, which has even become a new social instability factor\n",
      "-----------------------------------------------------------------------------------------------------\n",
      "[MISC, 0.9187601577347553]   This is mainly because there are many problems in autopilot technology, such as low recognition accuracy, poor real-time performance, weak anti-interference ability and so on\n",
      "-----------------------------------------------------------------------------------------------------\n",
      "[MISC, 0.8954050763847791]   However, embedded technology and machine learning can solve these problems well, so autopilot technology will become the mainstream in the future\n",
      "-----------------------------------------------------------------------------------------------------\n",
      "[OWNX, 0.5052908347538999]   Firstly, this paper analyses the importance of autopilot technology\n",
      "-----------------------------------------------------------------------------------------------------\n",
      "[MISC, 0.719460564288762]   Then this paper analyses the machine learning target recognition, vehicle automatic driving system model and vehicle automatic driving system flow\n",
      "-----------------------------------------------------------------------------------------------------\n",
      "[OWNX, 0.4942183833652873]   Finally, this paper designs the function of autopilot system\n",
      "-----------------------------------------------------------------------------------------------------\n"
     ]
    }
   ],
   "source": [
    "lines = Text2.split('.')\n",
    "for line in lines[:-1]:\n",
    "    print(f'[{model.predict([line])[0]}, {max(model.predict_proba([line])[0])}]  {line}')\n",
    "    print('-----------------------------------------------------------------------------------------------------')"
   ]
  },
  {
   "cell_type": "code",
   "execution_count": null,
   "metadata": {},
   "outputs": [],
   "source": []
  }
 ],
 "metadata": {
  "kernelspec": {
   "display_name": "Python [conda env:jcopml]",
   "language": "python",
   "name": "conda-env-jcopml-py"
  },
  "language_info": {
   "codemirror_mode": {
    "name": "ipython",
    "version": 3
   },
   "file_extension": ".py",
   "mimetype": "text/x-python",
   "name": "python",
   "nbconvert_exporter": "python",
   "pygments_lexer": "ipython3",
   "version": "3.7.6"
  }
 },
 "nbformat": 4,
 "nbformat_minor": 4
}
